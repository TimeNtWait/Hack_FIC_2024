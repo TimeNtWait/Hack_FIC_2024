{
 "cells": [
  {
   "cell_type": "code",
   "execution_count": 1,
   "id": "e4cfba64-269b-4e9d-bff7-49fe045ab71e",
   "metadata": {},
   "outputs": [
    {
     "name": "stderr",
     "output_type": "stream",
     "text": [
      "2024-12-01 15:51:04.830872: I tensorflow/core/util/port.cc:153] oneDNN custom operations are on. You may see slightly different numerical results due to floating-point round-off errors from different computation orders. To turn them off, set the environment variable `TF_ENABLE_ONEDNN_OPTS=0`.\n",
      "2024-12-01 15:51:04.837923: E external/local_xla/xla/stream_executor/cuda/cuda_fft.cc:477] Unable to register cuFFT factory: Attempting to register factory for plugin cuFFT when one has already been registered\n",
      "WARNING: All log messages before absl::InitializeLog() is called are written to STDERR\n",
      "E0000 00:00:1733057464.847317  893290 cuda_dnn.cc:8310] Unable to register cuDNN factory: Attempting to register factory for plugin cuDNN when one has already been registered\n",
      "E0000 00:00:1733057464.849900  893290 cuda_blas.cc:1418] Unable to register cuBLAS factory: Attempting to register factory for plugin cuBLAS when one has already been registered\n",
      "2024-12-01 15:51:04.859782: I tensorflow/core/platform/cpu_feature_guard.cc:210] This TensorFlow binary is optimized to use available CPU instructions in performance-critical operations.\n",
      "To enable the following instructions: AVX2 AVX_VNNI FMA, in other operations, rebuild TensorFlow with the appropriate compiler flags.\n"
     ]
    }
   ],
   "source": [
    "import pandas as pd\n",
    "import re\n",
    "import fire\n",
    "import torch\n",
    "from transformers import AutoTokenizer, AutoModelForCausalLM, BitsAndBytesConfig, pipeline\n",
    "import torch\n",
    "import os\n",
    "from docx import Document\n",
    "from tqdm.auto import tqdm\n",
    "import pandas as pd\n",
    "import ast\n",
    "import sqlite3\n",
    "import warnings\n",
    "import time\n",
    "import re"
   ]
  },
  {
   "cell_type": "code",
   "execution_count": 2,
   "id": "2aa36d75-fc72-4968-a8a6-bfdcd91f120f",
   "metadata": {},
   "outputs": [
    {
     "data": {
      "text/plain": [
       "((17667, 7), 8309)"
      ]
     },
     "execution_count": 2,
     "metadata": {},
     "output_type": "execute_result"
    }
   ],
   "source": [
    "df = pd.read_csv('После_LLM_buch_dataset.csv')\n",
    "\n",
    "def split_and_expand_safe(df, columns):\n",
    "    for col in columns:\n",
    "        df[col] = df[col].apply(\n",
    "            lambda x: ast.literal_eval(x) if isinstance(x, str) and x.startswith('[') and x.endswith(']') else x\n",
    "        )\n",
    "    \n",
    "    # Check lengths of lists in each row\n",
    "    df['len_тема'] = df['Тема'].apply(lambda x: len(x) if isinstance(x, list) else 0)\n",
    "    df['len_описание'] = df['Описание'].apply(lambda x: len(x) if isinstance(x, list) else 0)\n",
    "    \n",
    "    # Remove rows with mismatched list lengths\n",
    "    df = df[df['len_тема'] == df['len_описание']]\n",
    "    \n",
    "    # Remove the helper columns\n",
    "    df = df.drop(columns=['len_тема', 'len_описание'])\n",
    "    \n",
    "    # Explode the specified columns\n",
    "    df_expanded = df.explode(columns)\n",
    "    return df_expanded\n",
    "\n",
    "columns_to_process = ['Тема', 'Описание']\n",
    "df = split_and_expand_safe(df, columns_to_process)\n",
    "df = df.dropna()\n",
    "df.shape, df['Тема'].nunique()"
   ]
  },
  {
   "cell_type": "code",
   "execution_count": 3,
   "id": "1ba77d1a-8001-4171-af3b-7836edd09a8c",
   "metadata": {},
   "outputs": [],
   "source": [
    "SYSTEM_PROMPT = \"\"\"\n",
    "Ты — эксперт в области бухгалтерии. Твоя задача — классифицировать информацию, связанную с бухгалтерией, налогами, отчетностью, документами юридических лиц, индивидуальными предпринимателями и другими смежными темами.\n",
    "Контекст:\n",
    "Дается текст, содержащий информацию, релевантную бухгалтерии, бизнесу или предпринимательской деятельности. Твоя задача — структурировать его, выделить ключевую тему и отнести ее к одной из указанных категорий.\n",
    "Правила классификации:\n",
    "1. Определи основную тему текста.\n",
    "2. Отнеси ее к одной из следующих категорий:\n",
    "   - Налоги, налогообложение и налоговое планирование\n",
    "   - Бухгалтерский учет и финансовая отчетность\n",
    "   - Финансовая отчетность и анализ\n",
    "   - Внутренний контроль и аудит\n",
    "   - Финансовое планирование, прогнозирование и анализ рисков\n",
    "   - Учет заработной платы\n",
    "   - Кадровое делопроизводство\n",
    "   - Программное обеспечение для бухгалтерии и автоматизация\n",
    "   - Взаимодействие с государственными органами\n",
    "   - Правовое регулирование бухгалтерии, налогообложения и трудового законодательства\n",
    "   - Финансовый анализ и оценка\n",
    "3. Если подходящей категории нет, предложи новую, или верни \"\". Предложенные категории не изменяй и от себя ни чего не пиши, в скобках уточнение не добавляй.\n",
    "4. Не указывай пересечения — выбери только одну категорию, наиболее соответствующую теме.\n",
    "\n",
    "Результат:\n",
    "Верни результат в формате только названия категории, к которой относится тема. \n",
    "\"\"\""
   ]
  },
  {
   "cell_type": "code",
   "execution_count": 4,
   "id": "8cc3d294-975f-48f7-af3e-f3ce6eba72fc",
   "metadata": {},
   "outputs": [
    {
     "data": {
      "application/vnd.jupyter.widget-view+json": {
       "model_id": "cd22fb85ae0c4ea4bd7217b2084e60c7",
       "version_major": 2,
       "version_minor": 0
      },
      "text/plain": [
       "tokenizer_config.json:   0%|          | 0.00/51.0k [00:00<?, ?B/s]"
      ]
     },
     "metadata": {},
     "output_type": "display_data"
    },
    {
     "data": {
      "application/vnd.jupyter.widget-view+json": {
       "model_id": "53b5f8a9881a46ddbb5241efdf13d482",
       "version_major": 2,
       "version_minor": 0
      },
      "text/plain": [
       "tokenizer.json:   0%|          | 0.00/9.09M [00:00<?, ?B/s]"
      ]
     },
     "metadata": {},
     "output_type": "display_data"
    },
    {
     "data": {
      "application/vnd.jupyter.widget-view+json": {
       "model_id": "3ea0a761b34f4739beff517a4a135414",
       "version_major": 2,
       "version_minor": 0
      },
      "text/plain": [
       "special_tokens_map.json:   0%|          | 0.00/446 [00:00<?, ?B/s]"
      ]
     },
     "metadata": {},
     "output_type": "display_data"
    },
    {
     "name": "stderr",
     "output_type": "stream",
     "text": [
      "Unused kwargs: ['bnb_8bit_quant_type']. These kwargs are not used in <class 'transformers.utils.quantization_config.BitsAndBytesConfig'>.\n"
     ]
    },
    {
     "data": {
      "application/vnd.jupyter.widget-view+json": {
       "model_id": "23dbfa29033a4618b6d2ab14f206b159",
       "version_major": 2,
       "version_minor": 0
      },
      "text/plain": [
       "config.json:   0%|          | 0.00/689 [00:00<?, ?B/s]"
      ]
     },
     "metadata": {},
     "output_type": "display_data"
    },
    {
     "data": {
      "application/vnd.jupyter.widget-view+json": {
       "model_id": "5a44ddfe2be5400b8b6e3936a68df3a7",
       "version_major": 2,
       "version_minor": 0
      },
      "text/plain": [
       "model.safetensors.index.json:   0%|          | 0.00/23.9k [00:00<?, ?B/s]"
      ]
     },
     "metadata": {},
     "output_type": "display_data"
    },
    {
     "data": {
      "application/vnd.jupyter.widget-view+json": {
       "model_id": "81bb32472fae423b9df1943e917f1b64",
       "version_major": 2,
       "version_minor": 0
      },
      "text/plain": [
       "Downloading shards:   0%|          | 0/4 [00:00<?, ?it/s]"
      ]
     },
     "metadata": {},
     "output_type": "display_data"
    },
    {
     "name": "stderr",
     "output_type": "stream",
     "text": [
      "/home/dimk/my_project_dir/myenv/lib/python3.10/site-packages/huggingface_hub/file_download.py:991: UserWarning: Not enough free disk space to download the file. The expected file size is: 4976.70 MB. The target location /home/dimk/.cache/huggingface/hub/models--IlyaGusev--saiga_llama3_8b/blobs only has 4516.68 MB free disk space.\n",
      "  warnings.warn(\n"
     ]
    },
    {
     "data": {
      "application/vnd.jupyter.widget-view+json": {
       "model_id": "494890b66e004f4c935e2189504212eb",
       "version_major": 2,
       "version_minor": 0
      },
      "text/plain": [
       "model-00001-of-00004.safetensors:   0%|          | 0.00/4.98G [00:00<?, ?B/s]"
      ]
     },
     "metadata": {},
     "output_type": "display_data"
    },
    {
     "data": {
      "application/vnd.jupyter.widget-view+json": {
       "model_id": "c221b5d5f8704be693094c2beb53ec42",
       "version_major": 2,
       "version_minor": 0
      },
      "text/plain": [
       "model-00002-of-00004.safetensors:   0%|          | 0.00/5.00G [00:00<?, ?B/s]"
      ]
     },
     "metadata": {},
     "output_type": "display_data"
    },
    {
     "data": {
      "application/vnd.jupyter.widget-view+json": {
       "model_id": "ec2b9f9f9dae45029709129b3d156811",
       "version_major": 2,
       "version_minor": 0
      },
      "text/plain": [
       "model-00003-of-00004.safetensors:   0%|          | 0.00/4.92G [00:00<?, ?B/s]"
      ]
     },
     "metadata": {},
     "output_type": "display_data"
    },
    {
     "data": {
      "application/vnd.jupyter.widget-view+json": {
       "model_id": "2a98cfd9cee84790848d22f74885e2e5",
       "version_major": 2,
       "version_minor": 0
      },
      "text/plain": [
       "model-00004-of-00004.safetensors:   0%|          | 0.00/1.17G [00:00<?, ?B/s]"
      ]
     },
     "metadata": {},
     "output_type": "display_data"
    },
    {
     "data": {
      "application/vnd.jupyter.widget-view+json": {
       "model_id": "248ba3c3fff345d4bca5b055634bb448",
       "version_major": 2,
       "version_minor": 0
      },
      "text/plain": [
       "Loading checkpoint shards:   0%|          | 0/4 [00:00<?, ?it/s]"
      ]
     },
     "metadata": {},
     "output_type": "display_data"
    },
    {
     "data": {
      "application/vnd.jupyter.widget-view+json": {
       "model_id": "5fd7d409e52042d08e2674bead49bddf",
       "version_major": 2,
       "version_minor": 0
      },
      "text/plain": [
       "generation_config.json:   0%|          | 0.00/277 [00:00<?, ?B/s]"
      ]
     },
     "metadata": {},
     "output_type": "display_data"
    }
   ],
   "source": [
    "model_path = 'IlyaGusev/saiga_llama3_8b'  #название модели https://huggingface.co/\n",
    "tokenizer = AutoTokenizer.from_pretrained(model_path)\n",
    "\n",
    "# Блок квантования\n",
    "# # # Configure 8-bit quantization\n",
    "quantization_config = BitsAndBytesConfig(\n",
    "    load_in_8bit=True, # Используется 8-битное квантован\n",
    "    bnb_8bit_quant_type='nf4',  # 'nf4'\n",
    ")\n",
    "\n",
    "# # # # Configure 4-bit quantization\n",
    "# quantization_config = BitsAndBytesConfig(\n",
    "#     load_in_8bit=False,  # Не используется 8-битное квантование\n",
    "#     load_in_4bit=True,   # Включаем 4-битное квантование\n",
    "#     bnb_4bit_quant_type='fp4',  # 4-битное квантование с плавающей точкой\n",
    "# )\n",
    "\n",
    "# # Load model with quantization configuration\n",
    "model = AutoModelForCausalLM.from_pretrained(\n",
    "    model_path,\n",
    "    quantization_config=quantization_config,\n",
    "    torch_dtype=torch.bfloat16,\n",
    "    device_map=\"auto\"\n",
    ")\n",
    "\n",
    "text_generator = pipeline(\n",
    "    \"text-generation\",\n",
    "    model=model,\n",
    "    tokenizer=tokenizer,\n",
    "    model_kwargs={\"torch_dtype\": torch.bfloat16},  # Использование bfloat16 в пайплайне\n",
    "    device_map=\"auto\",                             # Автоматическое распределение модели по устройствам\n",
    "    pad_token_id=tokenizer.eos_token_id,\n",
    "    truncation=True,\n",
    ")\n",
    "\n",
    "# Функция для инференса LLM\n",
    "def interact(\n",
    "    user_message,\n",
    "    system_prompt=SYSTEM_PROMPT,\n",
    "    temperature=0.1,\n",
    "    max_length=512\n",
    "):\n",
    "    messages = [\n",
    "        {\"role\": \"system\", \"content\": system_prompt},\n",
    "        {\"role\": \"user\", \"content\": user_message},\n",
    "    ]\n",
    "    \n",
    "    text = tokenizer.apply_chat_template(\n",
    "        messages,\n",
    "        tokenize=False,\n",
    "        add_generation_prompt=True\n",
    "    )\n",
    "    model_inputs = tokenizer([text], return_tensors=\"pt\")\n",
    "    pad_token_id = tokenizer.pad_token_id if tokenizer.pad_token_id is not None else tokenizer.eos_token_id\n",
    "    \n",
    "    with torch.no_grad():\n",
    "        generated_ids = model.generate(\n",
    "            model_inputs.input_ids,\n",
    "            max_new_tokens=128,\n",
    "            temperature=temperature,\n",
    "            eos_token_id=tokenizer.eos_token_id,\n",
    "            pad_token_id=pad_token_id\n",
    "        )\n",
    "    \n",
    "    generated_ids = [\n",
    "        output_ids[len(input_ids):] for input_ids, output_ids in zip(model_inputs.input_ids, generated_ids)\n",
    "    ]\n",
    "    \n",
    "    response = tokenizer.batch_decode(generated_ids, skip_special_tokens=True)[0]\n",
    "    return response"
   ]
  },
  {
   "cell_type": "code",
   "execution_count": 7,
   "id": "1576ea25-a278-49db-b154-09da0930a96e",
   "metadata": {},
   "outputs": [
    {
     "data": {
      "application/vnd.jupyter.widget-view+json": {
       "model_id": "94bdd2c524174905ac90839e51aca065",
       "version_major": 2,
       "version_minor": 0
      },
      "text/plain": [
       "  0%|          | 0/8309 [00:00<?, ?it/s]"
      ]
     },
     "metadata": {},
     "output_type": "display_data"
    }
   ],
   "source": [
    "dict_category = {}\n",
    "start_time = time.time()\n",
    "with warnings.catch_warnings():\n",
    "    warnings.simplefilter(\"ignore\")\n",
    "    for topic in tqdm(df['Тема'].unique()):\n",
    "        res = interact(topic.strip(), SYSTEM_PROMPT)\n",
    "        dict_category[topic] = res"
   ]
  },
  {
   "cell_type": "code",
   "execution_count": 53,
   "id": "c117f32f-0639-4d02-bac0-a66d047fc794",
   "metadata": {},
   "outputs": [
    {
     "data": {
      "text/plain": [
       "28"
      ]
     },
     "execution_count": 53,
     "metadata": {},
     "output_type": "execute_result"
    }
   ],
   "source": [
    "df['Категория'] = df['Тема'].replace(dict_category)\n",
    "df['Категория'] = df['Категория'].str.replace(r'\\(.*?\\)', '', regex=True).str.strip()\n",
    "df['Категория'] = df['Категория'].str.replace('\"', '', regex=False)\n",
    "df['Категория'] = df['Категория'].apply(\n",
    "    lambda x: 'Бухгалтерский учет'\n",
    "    if isinstance(x, str) and 'Бухгалтерский учет' in x\n",
    "    else x\n",
    ")\n",
    "df['Категория'] = df['Категория'].apply(\n",
    "    lambda x: 'Внутренний контроль и аудит'\n",
    "    if isinstance(x, str) and 'Внутренний контроль' in x\n",
    "    else x\n",
    ")\n",
    "df['Категория'] = df['Категория'].apply(\n",
    "    lambda x: 'Кадровое делопроизводство'\n",
    "    if isinstance(x, str) and 'кадровое' in x.lower()\n",
    "    else x\n",
    ")\n",
    "\n",
    "\n",
    "df['Категория'] = df['Категория'].apply(\n",
    "    lambda x: 'Налоги, налогообложение и налоговое планирование'\n",
    "    if isinstance(x, str) and 'Налог' in x\n",
    "    else x\n",
    ")\n",
    "\n",
    "df['Категория'] = df['Категория'].apply(\n",
    "    lambda x: 'Взаимодействие с государственными органами'\n",
    "    if isinstance(x, str) and 'Взаимодействие с государственными органами' in x\n",
    "    else x\n",
    ")\n",
    "\n",
    "df['Категория'] = df['Категория'].apply(\n",
    "    lambda x: 'Юридическое регулирование'\n",
    "    if isinstance(x, str) and 'регулирование' in x.lower()\n",
    "    else x\n",
    ")\n",
    "\n",
    "df['Категория'] = df['Категория'].apply(\n",
    "    lambda x: 'Финансовое планирование и прогнозирование'\n",
    "    if isinstance(x, str) and 'финансовое планирование' in x.lower()\n",
    "    else x\n",
    ")\n",
    "\n",
    "df['Категория'] = df['Категория'].apply(\n",
    "    lambda x: 'Правовые аспекты бухгалтерии и налогообложения'\n",
    "    if isinstance(x, str) and 'правовые аспекты' in x.lower()\n",
    "    else x\n",
    ")\n",
    "\n",
    "df['Категория'] = df['Категория'].apply(\n",
    "    lambda x: 'Программное обеспечение для бухгалтерии и автоматизация'\n",
    "    if isinstance(x, str) and 'программное обеспечение' in x.lower()\n",
    "    else x\n",
    ")\n",
    "\n",
    "\n",
    "df['Категория'].nunique()"
   ]
  },
  {
   "cell_type": "code",
   "execution_count": 54,
   "id": "06f87504-c69e-4c5d-adfa-874a13b8356f",
   "metadata": {},
   "outputs": [
    {
     "data": {
      "text/plain": [
       "['Бухгалтерские услуги',\n",
       " 'Бухгалтерский учет',\n",
       " 'Бухгалтерское образование и обучение',\n",
       " 'Взаимодействие с банками и финансовыми учреждениями',\n",
       " 'Взаимодействие с государственными органами',\n",
       " 'Взаимодействие с клиентами',\n",
       " 'Взаимодействие с налоговыми органами',\n",
       " 'Внутренний контроль и аудит',\n",
       " 'Кадровое делопроизводство',\n",
       " 'Личностное развитие профессиональное',\n",
       " 'Маркетинг, реклама, коммуникации',\n",
       " 'Налоги, налогообложение и налоговое планирование',\n",
       " 'Правовые аспекты бухгалтерии и налогообложения',\n",
       " 'Предпринимательство',\n",
       " 'Программное обеспечение для бухгалтерии и автоматизация',\n",
       " 'Сотрудничество с государственными органами',\n",
       " 'Управление кассой и денежными средствами',\n",
       " 'Управление кредиторской задолженностью',\n",
       " 'Управление проектами',\n",
       " 'Учет дебиторской и кредиторской задолженности',\n",
       " 'Учет для ИП',\n",
       " 'Учет заработной платы',\n",
       " 'Учет кадров и персонала',\n",
       " 'Учет расходов',\n",
       " 'Учет социальных взносов',\n",
       " 'Финансовое планирование и прогнозирование',\n",
       " 'Финансовый анализ и оценка',\n",
       " 'Юридическое регулирование']"
      ]
     },
     "execution_count": 54,
     "metadata": {},
     "output_type": "execute_result"
    }
   ],
   "source": [
    "sorted(df['Категория'].unique())"
   ]
  },
  {
   "cell_type": "code",
   "execution_count": 55,
   "id": "0513f76d-952a-4f07-a09d-9d62828eebd0",
   "metadata": {},
   "outputs": [],
   "source": [
    "df.dropna().to_csv('LLM_buch_dataset.csv', index=False)"
   ]
  },
  {
   "cell_type": "code",
   "execution_count": null,
   "id": "c9963ff3-b760-41c0-844b-883c8fea124f",
   "metadata": {},
   "outputs": [],
   "source": []
  }
 ],
 "metadata": {
  "kernelspec": {
   "display_name": "Python 3 (ipykernel)",
   "language": "python",
   "name": "python3"
  },
  "language_info": {
   "codemirror_mode": {
    "name": "ipython",
    "version": 3
   },
   "file_extension": ".py",
   "mimetype": "text/x-python",
   "name": "python",
   "nbconvert_exporter": "python",
   "pygments_lexer": "ipython3",
   "version": "3.10.12"
  },
  "widgets": {
   "application/vnd.jupyter.widget-state+json": {
    "state": {
     "0124d32d0272451f992559b4f3e66b2c": {
      "model_module": "@jupyter-widgets/controls",
      "model_module_version": "2.0.0",
      "model_name": "HTMLModel",
      "state": {
       "layout": "IPY_MODEL_b57659626af34c4d96712c1888014904",
       "style": "IPY_MODEL_059953d66b834474a0ca2afa76b956ce",
       "value": "Loading checkpoint shards: 100%"
      }
     },
     "03b0aea13b1b4687b45eb4dd5edec4f0": {
      "model_module": "@jupyter-widgets/controls",
      "model_module_version": "2.0.0",
      "model_name": "HBoxModel",
      "state": {
       "children": [
        "IPY_MODEL_442a9b43b8f5412eb2ee4b3408a7ba83",
        "IPY_MODEL_dae72d6de23b4e04bc4d56eef10ba3a9",
        "IPY_MODEL_b1ccebad0cf246409765aaa928177325"
       ],
       "layout": "IPY_MODEL_ed5a0777806f4fea9ee6f7a0b7a9845e"
      }
     },
     "056f8ef2bc594ff3ad53f32d8ce30834": {
      "model_module": "@jupyter-widgets/base",
      "model_module_version": "2.0.0",
      "model_name": "LayoutModel",
      "state": {}
     },
     "059953d66b834474a0ca2afa76b956ce": {
      "model_module": "@jupyter-widgets/controls",
      "model_module_version": "2.0.0",
      "model_name": "HTMLStyleModel",
      "state": {
       "description_width": "",
       "font_size": null,
       "text_color": null
      }
     },
     "0cf49ed4bffd4b0eb2d3de7118c2cad7": {
      "model_module": "@jupyter-widgets/controls",
      "model_module_version": "2.0.0",
      "model_name": "ProgressStyleModel",
      "state": {
       "description_width": ""
      }
     },
     "110f97c0d2074f5ea639589f72607eab": {
      "model_module": "@jupyter-widgets/controls",
      "model_module_version": "2.0.0",
      "model_name": "ProgressStyleModel",
      "state": {
       "description_width": ""
      }
     },
     "113adad7421b4804908e7a9daeba50c3": {
      "model_module": "@jupyter-widgets/base",
      "model_module_version": "2.0.0",
      "model_name": "LayoutModel",
      "state": {}
     },
     "11e8dcd1b9d940c7b66f71e065950415": {
      "model_module": "@jupyter-widgets/controls",
      "model_module_version": "2.0.0",
      "model_name": "HTMLStyleModel",
      "state": {
       "description_width": "",
       "font_size": null,
       "text_color": null
      }
     },
     "145c8cff9f4f427a9f2673a9caa4c7b6": {
      "model_module": "@jupyter-widgets/base",
      "model_module_version": "2.0.0",
      "model_name": "LayoutModel",
      "state": {}
     },
     "149d5a1b49e549d0bf71cf77ec791e3a": {
      "model_module": "@jupyter-widgets/base",
      "model_module_version": "2.0.0",
      "model_name": "LayoutModel",
      "state": {}
     },
     "16dae808decd452eb84c5a7cbbf599a4": {
      "model_module": "@jupyter-widgets/controls",
      "model_module_version": "2.0.0",
      "model_name": "HTMLModel",
      "state": {
       "layout": "IPY_MODEL_e265378488504487acb88c1e24c37497",
       "style": "IPY_MODEL_ffd74a0d84ea492bb4373ffd39d7a0d4",
       "value": " 5.00G/5.00G [07:20&lt;00:00, 11.5MB/s]"
      }
     },
     "1b491b326f684f039f0a63b6861d0a1e": {
      "model_module": "@jupyter-widgets/controls",
      "model_module_version": "2.0.0",
      "model_name": "HTMLStyleModel",
      "state": {
       "description_width": "",
       "font_size": null,
       "text_color": null
      }
     },
     "1c239c15bfe84ca4b69b201d7a1deddf": {
      "model_module": "@jupyter-widgets/controls",
      "model_module_version": "2.0.0",
      "model_name": "HTMLModel",
      "state": {
       "layout": "IPY_MODEL_623444f701194ed49780e6996b191dee",
       "style": "IPY_MODEL_b1ed61157cda4aef8feabda64dd90485",
       "value": " 4.98G/4.98G [07:21&lt;00:00, 11.6MB/s]"
      }
     },
     "1c3b5752c9d1470e9ce91fd005f4374d": {
      "model_module": "@jupyter-widgets/controls",
      "model_module_version": "2.0.0",
      "model_name": "HTMLModel",
      "state": {
       "layout": "IPY_MODEL_a906421d6e3f4433bff7cbdb5b1d15e1",
       "style": "IPY_MODEL_3848ebe09af049079868ee496b5997d4",
       "value": " 1.17G/1.17G [01:42&lt;00:00, 11.4MB/s]"
      }
     },
     "1e9e07bcef1341868cf1db82b342b45f": {
      "model_module": "@jupyter-widgets/controls",
      "model_module_version": "2.0.0",
      "model_name": "HTMLModel",
      "state": {
       "layout": "IPY_MODEL_687c697e9de84b33b7de64c55ebe4fa7",
       "style": "IPY_MODEL_b78f2ed9abd94668bf5799c37207406e",
       "value": " 51.0k/51.0k [00:00&lt;00:00, 1.71MB/s]"
      }
     },
     "20f61c0a76764d118883278a966d1edb": {
      "model_module": "@jupyter-widgets/controls",
      "model_module_version": "2.0.0",
      "model_name": "HTMLModel",
      "state": {
       "layout": "IPY_MODEL_789aecf581764332bc373f6da3080521",
       "style": "IPY_MODEL_11e8dcd1b9d940c7b66f71e065950415",
       "value": " 9.09M/9.09M [00:00&lt;00:00, 9.53MB/s]"
      }
     },
     "21885855fd8d4b6ca13f8042816c7a20": {
      "model_module": "@jupyter-widgets/base",
      "model_module_version": "2.0.0",
      "model_name": "LayoutModel",
      "state": {}
     },
     "21c6bdd4c083421abe3176bd321ef47c": {
      "model_module": "@jupyter-widgets/base",
      "model_module_version": "2.0.0",
      "model_name": "LayoutModel",
      "state": {}
     },
     "23dbfa29033a4618b6d2ab14f206b159": {
      "model_module": "@jupyter-widgets/controls",
      "model_module_version": "2.0.0",
      "model_name": "HBoxModel",
      "state": {
       "children": [
        "IPY_MODEL_d48b77777d494ab19806bd3826640b9c",
        "IPY_MODEL_6860108d68c54d2089f074419210990e",
        "IPY_MODEL_91b591f445a24e7ab7207f70d3f61d73"
       ],
       "layout": "IPY_MODEL_6ad3fd37cbcd4d9e894285a1db4bde80"
      }
     },
     "2400541b6107487eb25d09a2942c97b4": {
      "model_module": "@jupyter-widgets/base",
      "model_module_version": "2.0.0",
      "model_name": "LayoutModel",
      "state": {}
     },
     "248ba3c3fff345d4bca5b055634bb448": {
      "model_module": "@jupyter-widgets/controls",
      "model_module_version": "2.0.0",
      "model_name": "HBoxModel",
      "state": {
       "children": [
        "IPY_MODEL_0124d32d0272451f992559b4f3e66b2c",
        "IPY_MODEL_66e2b3ad59214445852050e9709c5aaa",
        "IPY_MODEL_524574761c69438999d3bd26e826f88b"
       ],
       "layout": "IPY_MODEL_5360cd9415be44b1974cfe7c5f006aea"
      }
     },
     "24ced030ccd34cb481b8ecf3d3d86ae0": {
      "model_module": "@jupyter-widgets/controls",
      "model_module_version": "2.0.0",
      "model_name": "ProgressStyleModel",
      "state": {
       "description_width": ""
      }
     },
     "27515582a0f5463792bc16fc89549cf3": {
      "model_module": "@jupyter-widgets/controls",
      "model_module_version": "2.0.0",
      "model_name": "FloatProgressModel",
      "state": {
       "bar_style": "success",
       "layout": "IPY_MODEL_3f784ac359d34079bd61a75f22fdaba4",
       "max": 51012,
       "style": "IPY_MODEL_c43752fc47224a2083e616ece3ca30cf",
       "value": 51012
      }
     },
     "2a98cfd9cee84790848d22f74885e2e5": {
      "model_module": "@jupyter-widgets/controls",
      "model_module_version": "2.0.0",
      "model_name": "HBoxModel",
      "state": {
       "children": [
        "IPY_MODEL_5c216454b0e84fabbe3e99aa696381ca",
        "IPY_MODEL_9c2ae00d92514bc28048e71701f4a067",
        "IPY_MODEL_1c3b5752c9d1470e9ce91fd005f4374d"
       ],
       "layout": "IPY_MODEL_ac51b43b07dd4a7db1416db0f26c70e8"
      }
     },
     "2b448c9fcc144444aa202f94e839b0b6": {
      "model_module": "@jupyter-widgets/base",
      "model_module_version": "2.0.0",
      "model_name": "LayoutModel",
      "state": {}
     },
     "2cddf387d7b74bd988bee9b88c734eba": {
      "model_module": "@jupyter-widgets/controls",
      "model_module_version": "2.0.0",
      "model_name": "HTMLStyleModel",
      "state": {
       "description_width": "",
       "font_size": null,
       "text_color": null
      }
     },
     "2d1fa18e23d447ca8101d56193d90401": {
      "model_module": "@jupyter-widgets/controls",
      "model_module_version": "2.0.0",
      "model_name": "ProgressStyleModel",
      "state": {
       "description_width": ""
      }
     },
     "34b1937811eb454c978b05ef6768d75a": {
      "model_module": "@jupyter-widgets/base",
      "model_module_version": "2.0.0",
      "model_name": "LayoutModel",
      "state": {}
     },
     "357b01ae911c4a09bd25acdfbbfd8c98": {
      "model_module": "@jupyter-widgets/controls",
      "model_module_version": "2.0.0",
      "model_name": "HTMLModel",
      "state": {
       "layout": "IPY_MODEL_34b1937811eb454c978b05ef6768d75a",
       "style": "IPY_MODEL_4bf232137d9647429396b883cfb3361a",
       "value": "generation_config.json: 100%"
      }
     },
     "35ba377782c444dd9ef96534097e7faa": {
      "model_module": "@jupyter-widgets/controls",
      "model_module_version": "2.0.0",
      "model_name": "HTMLStyleModel",
      "state": {
       "description_width": "",
       "font_size": null,
       "text_color": null
      }
     },
     "37cda115138c47f9861dcd8e9cd7942c": {
      "model_module": "@jupyter-widgets/controls",
      "model_module_version": "2.0.0",
      "model_name": "FloatProgressModel",
      "state": {
       "bar_style": "success",
       "layout": "IPY_MODEL_c338ac65b3424ac280928088135063d7",
       "max": 4976698672,
       "style": "IPY_MODEL_d5064a8607c045138d366de67ab28c95",
       "value": 4976698672
      }
     },
     "3848ebe09af049079868ee496b5997d4": {
      "model_module": "@jupyter-widgets/controls",
      "model_module_version": "2.0.0",
      "model_name": "HTMLStyleModel",
      "state": {
       "description_width": "",
       "font_size": null,
       "text_color": null
      }
     },
     "3abc72e187fd4f3c9ddbf4d9495fdb2c": {
      "model_module": "@jupyter-widgets/base",
      "model_module_version": "2.0.0",
      "model_name": "LayoutModel",
      "state": {}
     },
     "3ad4d728966d4b7ca4ca4a60c6ca97ef": {
      "model_module": "@jupyter-widgets/base",
      "model_module_version": "2.0.0",
      "model_name": "LayoutModel",
      "state": {}
     },
     "3bb4b22262734ad1bb68b8bb298d56cd": {
      "model_module": "@jupyter-widgets/controls",
      "model_module_version": "2.0.0",
      "model_name": "ProgressStyleModel",
      "state": {
       "description_width": ""
      }
     },
     "3d4e1263a9404ef1980af1cf5d58e243": {
      "model_module": "@jupyter-widgets/base",
      "model_module_version": "2.0.0",
      "model_name": "LayoutModel",
      "state": {}
     },
     "3e7e9cea9f50453f9e7f032b7f73d8c7": {
      "model_module": "@jupyter-widgets/base",
      "model_module_version": "2.0.0",
      "model_name": "LayoutModel",
      "state": {}
     },
     "3e97d843ea21461aa5522f15478219b6": {
      "model_module": "@jupyter-widgets/controls",
      "model_module_version": "2.0.0",
      "model_name": "HTMLModel",
      "state": {
       "layout": "IPY_MODEL_ab78c201a94844349347b1eb97202b66",
       "style": "IPY_MODEL_eae2ea14409b481cbda746c0209f8616",
       "value": "tokenizer.json: 100%"
      }
     },
     "3ea0a761b34f4739beff517a4a135414": {
      "model_module": "@jupyter-widgets/controls",
      "model_module_version": "2.0.0",
      "model_name": "HBoxModel",
      "state": {
       "children": [
        "IPY_MODEL_a26d5df09aed4794817f4014d2e933b2",
        "IPY_MODEL_89dcdbfa408242cca6959184c1e2bb4d",
        "IPY_MODEL_b40c8c9daa4d45bcb0c1465f4f369cde"
       ],
       "layout": "IPY_MODEL_4d9570632e504faeaf25aaf6115fba16"
      }
     },
     "3f784ac359d34079bd61a75f22fdaba4": {
      "model_module": "@jupyter-widgets/base",
      "model_module_version": "2.0.0",
      "model_name": "LayoutModel",
      "state": {}
     },
     "3fee0e327eb84e1d8a041ed6f7d700c7": {
      "model_module": "@jupyter-widgets/base",
      "model_module_version": "2.0.0",
      "model_name": "LayoutModel",
      "state": {}
     },
     "410b6807ea9a4a64ae9ccfd1a411664c": {
      "model_module": "@jupyter-widgets/controls",
      "model_module_version": "2.0.0",
      "model_name": "HTMLStyleModel",
      "state": {
       "description_width": "",
       "font_size": null,
       "text_color": null
      }
     },
     "442a9b43b8f5412eb2ee4b3408a7ba83": {
      "model_module": "@jupyter-widgets/controls",
      "model_module_version": "2.0.0",
      "model_name": "HTMLModel",
      "state": {
       "layout": "IPY_MODEL_3ad4d728966d4b7ca4ca4a60c6ca97ef",
       "style": "IPY_MODEL_b643dc46d58249839e2f6da003e99e6e",
       "value": "  1%"
      }
     },
     "44b58636611e4b61b048d3fa7d776334": {
      "model_module": "@jupyter-widgets/controls",
      "model_module_version": "2.0.0",
      "model_name": "ProgressStyleModel",
      "state": {
       "description_width": ""
      }
     },
     "494890b66e004f4c935e2189504212eb": {
      "model_module": "@jupyter-widgets/controls",
      "model_module_version": "2.0.0",
      "model_name": "HBoxModel",
      "state": {
       "children": [
        "IPY_MODEL_6a0e96e6a4e04bbd9c92982f3450ad66",
        "IPY_MODEL_37cda115138c47f9861dcd8e9cd7942c",
        "IPY_MODEL_1c239c15bfe84ca4b69b201d7a1deddf"
       ],
       "layout": "IPY_MODEL_cac342e9919a47a1ba70a3b278e2561f"
      }
     },
     "4bb6d5da816b4ba09e2b5fb60d02bbae": {
      "model_module": "@jupyter-widgets/controls",
      "model_module_version": "2.0.0",
      "model_name": "HTMLStyleModel",
      "state": {
       "description_width": "",
       "font_size": null,
       "text_color": null
      }
     },
     "4bf232137d9647429396b883cfb3361a": {
      "model_module": "@jupyter-widgets/controls",
      "model_module_version": "2.0.0",
      "model_name": "HTMLStyleModel",
      "state": {
       "description_width": "",
       "font_size": null,
       "text_color": null
      }
     },
     "4d9570632e504faeaf25aaf6115fba16": {
      "model_module": "@jupyter-widgets/base",
      "model_module_version": "2.0.0",
      "model_name": "LayoutModel",
      "state": {}
     },
     "505f882f76f24056a383fb78b85919a8": {
      "model_module": "@jupyter-widgets/base",
      "model_module_version": "2.0.0",
      "model_name": "LayoutModel",
      "state": {}
     },
     "524574761c69438999d3bd26e826f88b": {
      "model_module": "@jupyter-widgets/controls",
      "model_module_version": "2.0.0",
      "model_name": "HTMLModel",
      "state": {
       "layout": "IPY_MODEL_90d75f94fa8b40ecaec56d4876d60bf9",
       "style": "IPY_MODEL_66ad358cea8149a7b34eaa76931f164e",
       "value": " 4/4 [00:05&lt;00:00,  1.11s/it]"
      }
     },
     "5360cd9415be44b1974cfe7c5f006aea": {
      "model_module": "@jupyter-widgets/base",
      "model_module_version": "2.0.0",
      "model_name": "LayoutModel",
      "state": {}
     },
     "53b5f8a9881a46ddbb5241efdf13d482": {
      "model_module": "@jupyter-widgets/controls",
      "model_module_version": "2.0.0",
      "model_name": "HBoxModel",
      "state": {
       "children": [
        "IPY_MODEL_3e97d843ea21461aa5522f15478219b6",
        "IPY_MODEL_daf8801b82094f5c8fc23ea4597bd074",
        "IPY_MODEL_20f61c0a76764d118883278a966d1edb"
       ],
       "layout": "IPY_MODEL_21c6bdd4c083421abe3176bd321ef47c"
      }
     },
     "5a44ddfe2be5400b8b6e3936a68df3a7": {
      "model_module": "@jupyter-widgets/controls",
      "model_module_version": "2.0.0",
      "model_name": "HBoxModel",
      "state": {
       "children": [
        "IPY_MODEL_a5e1bf38f5bd45b982bbc01f561d1d4d",
        "IPY_MODEL_9d7c9b4229bd4fb9b44e7727a02bead8",
        "IPY_MODEL_fdea91c121264185b9169b15e07b7824"
       ],
       "layout": "IPY_MODEL_3d4e1263a9404ef1980af1cf5d58e243"
      }
     },
     "5bc66c56222346889de893bf7c234ac5": {
      "model_module": "@jupyter-widgets/base",
      "model_module_version": "2.0.0",
      "model_name": "LayoutModel",
      "state": {}
     },
     "5c216454b0e84fabbe3e99aa696381ca": {
      "model_module": "@jupyter-widgets/controls",
      "model_module_version": "2.0.0",
      "model_name": "HTMLModel",
      "state": {
       "layout": "IPY_MODEL_a9fbd33bad884469852f3bb7de0e3271",
       "style": "IPY_MODEL_79e4210fcc194fd18bd04ccb15fac8c7",
       "value": "model-00004-of-00004.safetensors: 100%"
      }
     },
     "5d42576c7de24152a1c4043ce457afa1": {
      "model_module": "@jupyter-widgets/base",
      "model_module_version": "2.0.0",
      "model_name": "LayoutModel",
      "state": {}
     },
     "5e3da59b51924c18b159cf8974cf18d8": {
      "model_module": "@jupyter-widgets/base",
      "model_module_version": "2.0.0",
      "model_name": "LayoutModel",
      "state": {}
     },
     "5fd7d409e52042d08e2674bead49bddf": {
      "model_module": "@jupyter-widgets/controls",
      "model_module_version": "2.0.0",
      "model_name": "HBoxModel",
      "state": {
       "children": [
        "IPY_MODEL_357b01ae911c4a09bd25acdfbbfd8c98",
        "IPY_MODEL_f0a7472f88864f36b5f41bbb8b4b3f37",
        "IPY_MODEL_b1836675023443518a5753f93257443f"
       ],
       "layout": "IPY_MODEL_b5917401d5ea4829a3dc8f02f0baa1b3"
      }
     },
     "623444f701194ed49780e6996b191dee": {
      "model_module": "@jupyter-widgets/base",
      "model_module_version": "2.0.0",
      "model_name": "LayoutModel",
      "state": {}
     },
     "63dcfaddaa844a3499e774fb9a1df0d5": {
      "model_module": "@jupyter-widgets/base",
      "model_module_version": "2.0.0",
      "model_name": "LayoutModel",
      "state": {}
     },
     "63e325e8fbfe410a95c17932d25310e6": {
      "model_module": "@jupyter-widgets/controls",
      "model_module_version": "2.0.0",
      "model_name": "FloatProgressModel",
      "state": {
       "bar_style": "success",
       "layout": "IPY_MODEL_f8746e40c8b44b8ba08dc533f1103b5a",
       "max": 8309,
       "style": "IPY_MODEL_0cf49ed4bffd4b0eb2d3de7118c2cad7",
       "value": 8309
      }
     },
     "66190cbbbd2b4ca8876277aef55cee5e": {
      "model_module": "@jupyter-widgets/controls",
      "model_module_version": "2.0.0",
      "model_name": "HTMLModel",
      "state": {
       "layout": "IPY_MODEL_9ab1f8b9a4ac4624ae0c2c38167b4e79",
       "style": "IPY_MODEL_410b6807ea9a4a64ae9ccfd1a411664c",
       "value": " 4/4 [23:44&lt;00:00, 307.03s/it]"
      }
     },
     "66ad358cea8149a7b34eaa76931f164e": {
      "model_module": "@jupyter-widgets/controls",
      "model_module_version": "2.0.0",
      "model_name": "HTMLStyleModel",
      "state": {
       "description_width": "",
       "font_size": null,
       "text_color": null
      }
     },
     "66e2b3ad59214445852050e9709c5aaa": {
      "model_module": "@jupyter-widgets/controls",
      "model_module_version": "2.0.0",
      "model_name": "FloatProgressModel",
      "state": {
       "bar_style": "success",
       "layout": "IPY_MODEL_d0242bccd618462f861b482ee49b44c1",
       "max": 4,
       "style": "IPY_MODEL_24ced030ccd34cb481b8ecf3d3d86ae0",
       "value": 4
      }
     },
     "6860108d68c54d2089f074419210990e": {
      "model_module": "@jupyter-widgets/controls",
      "model_module_version": "2.0.0",
      "model_name": "FloatProgressModel",
      "state": {
       "bar_style": "success",
       "layout": "IPY_MODEL_056f8ef2bc594ff3ad53f32d8ce30834",
       "max": 689,
       "style": "IPY_MODEL_ff677e4930a3403c88f19892043bee82",
       "value": 689
      }
     },
     "687c697e9de84b33b7de64c55ebe4fa7": {
      "model_module": "@jupyter-widgets/base",
      "model_module_version": "2.0.0",
      "model_name": "LayoutModel",
      "state": {}
     },
     "6981e0dbe0e74bab8b20f08c4ed2e4e9": {
      "model_module": "@jupyter-widgets/base",
      "model_module_version": "2.0.0",
      "model_name": "LayoutModel",
      "state": {}
     },
     "6a0e96e6a4e04bbd9c92982f3450ad66": {
      "model_module": "@jupyter-widgets/controls",
      "model_module_version": "2.0.0",
      "model_name": "HTMLModel",
      "state": {
       "layout": "IPY_MODEL_8ab83a5899a847118d9085ca441bdf5b",
       "style": "IPY_MODEL_eff6517acc0a4593afe971e7e23bdc5b",
       "value": "model-00001-of-00004.safetensors: 100%"
      }
     },
     "6ad3fd37cbcd4d9e894285a1db4bde80": {
      "model_module": "@jupyter-widgets/base",
      "model_module_version": "2.0.0",
      "model_name": "LayoutModel",
      "state": {}
     },
     "6b5cfbda873348c6aa4e1f3b81ae4969": {
      "model_module": "@jupyter-widgets/controls",
      "model_module_version": "2.0.0",
      "model_name": "HTMLStyleModel",
      "state": {
       "description_width": "",
       "font_size": null,
       "text_color": null
      }
     },
     "72acead05fec49a9a33dcab740a85078": {
      "model_module": "@jupyter-widgets/controls",
      "model_module_version": "2.0.0",
      "model_name": "FloatProgressModel",
      "state": {
       "bar_style": "success",
       "layout": "IPY_MODEL_505f882f76f24056a383fb78b85919a8",
       "max": 4,
       "style": "IPY_MODEL_846bd568d16c40c4a5678fe95116620a",
       "value": 4
      }
     },
     "768d470019694e6eb67a23b6c3ca114a": {
      "model_module": "@jupyter-widgets/controls",
      "model_module_version": "2.0.0",
      "model_name": "HTMLModel",
      "state": {
       "layout": "IPY_MODEL_f42dafb5f767490ab3bc407556ac9b79",
       "style": "IPY_MODEL_bce1107fba054343a27330a1850b5511",
       "value": " 4.92G/4.92G [07:13&lt;00:00, 11.4MB/s]"
      }
     },
     "7744d14252994da3ace0d4ba485aca75": {
      "model_module": "@jupyter-widgets/controls",
      "model_module_version": "2.0.0",
      "model_name": "HTMLStyleModel",
      "state": {
       "description_width": "",
       "font_size": null,
       "text_color": null
      }
     },
     "789aecf581764332bc373f6da3080521": {
      "model_module": "@jupyter-widgets/base",
      "model_module_version": "2.0.0",
      "model_name": "LayoutModel",
      "state": {}
     },
     "7910b10fe7d1423fa6e8abdc0a9fa8d6": {
      "model_module": "@jupyter-widgets/controls",
      "model_module_version": "2.0.0",
      "model_name": "HTMLStyleModel",
      "state": {
       "description_width": "",
       "font_size": null,
       "text_color": null
      }
     },
     "79e4210fcc194fd18bd04ccb15fac8c7": {
      "model_module": "@jupyter-widgets/controls",
      "model_module_version": "2.0.0",
      "model_name": "HTMLStyleModel",
      "state": {
       "description_width": "",
       "font_size": null,
       "text_color": null
      }
     },
     "7fd8a195328a4cd3ad1f177203909fba": {
      "model_module": "@jupyter-widgets/controls",
      "model_module_version": "2.0.0",
      "model_name": "HTMLModel",
      "state": {
       "layout": "IPY_MODEL_d01fe0c71cee493b896a0de89c130a11",
       "style": "IPY_MODEL_6b5cfbda873348c6aa4e1f3b81ae4969",
       "value": "Downloading shards: 100%"
      }
     },
     "81bb32472fae423b9df1943e917f1b64": {
      "model_module": "@jupyter-widgets/controls",
      "model_module_version": "2.0.0",
      "model_name": "HBoxModel",
      "state": {
       "children": [
        "IPY_MODEL_7fd8a195328a4cd3ad1f177203909fba",
        "IPY_MODEL_72acead05fec49a9a33dcab740a85078",
        "IPY_MODEL_66190cbbbd2b4ca8876277aef55cee5e"
       ],
       "layout": "IPY_MODEL_5bc66c56222346889de893bf7c234ac5"
      }
     },
     "846bd568d16c40c4a5678fe95116620a": {
      "model_module": "@jupyter-widgets/controls",
      "model_module_version": "2.0.0",
      "model_name": "ProgressStyleModel",
      "state": {
       "description_width": ""
      }
     },
     "8955746c6d8e43049132b231d1c9afb4": {
      "model_module": "@jupyter-widgets/base",
      "model_module_version": "2.0.0",
      "model_name": "LayoutModel",
      "state": {}
     },
     "89dcdbfa408242cca6959184c1e2bb4d": {
      "model_module": "@jupyter-widgets/controls",
      "model_module_version": "2.0.0",
      "model_name": "FloatProgressModel",
      "state": {
       "bar_style": "success",
       "layout": "IPY_MODEL_9b13a560e36d41fab4e8a2ef8452afd6",
       "max": 446,
       "style": "IPY_MODEL_44b58636611e4b61b048d3fa7d776334",
       "value": 446
      }
     },
     "8a31e6d5372f498f91de59e1a8996df3": {
      "model_module": "@jupyter-widgets/base",
      "model_module_version": "2.0.0",
      "model_name": "LayoutModel",
      "state": {}
     },
     "8a74fe90650c4b198d97bea4a04693fc": {
      "model_module": "@jupyter-widgets/controls",
      "model_module_version": "2.0.0",
      "model_name": "HTMLModel",
      "state": {
       "layout": "IPY_MODEL_21885855fd8d4b6ca13f8042816c7a20",
       "style": "IPY_MODEL_a2d84ab2e47b469d9b6b99720a63386a",
       "value": "model-00003-of-00004.safetensors: 100%"
      }
     },
     "8ab83a5899a847118d9085ca441bdf5b": {
      "model_module": "@jupyter-widgets/base",
      "model_module_version": "2.0.0",
      "model_name": "LayoutModel",
      "state": {}
     },
     "8b7fb94a4bb24d97866358e91d01ba58": {
      "model_module": "@jupyter-widgets/base",
      "model_module_version": "2.0.0",
      "model_name": "LayoutModel",
      "state": {}
     },
     "90d75f94fa8b40ecaec56d4876d60bf9": {
      "model_module": "@jupyter-widgets/base",
      "model_module_version": "2.0.0",
      "model_name": "LayoutModel",
      "state": {}
     },
     "91b591f445a24e7ab7207f70d3f61d73": {
      "model_module": "@jupyter-widgets/controls",
      "model_module_version": "2.0.0",
      "model_name": "HTMLModel",
      "state": {
       "layout": "IPY_MODEL_c08ca6128bf844deb962a0f7115670ed",
       "style": "IPY_MODEL_35ba377782c444dd9ef96534097e7faa",
       "value": " 689/689 [00:00&lt;00:00, 171kB/s]"
      }
     },
     "94bdd2c524174905ac90839e51aca065": {
      "model_module": "@jupyter-widgets/controls",
      "model_module_version": "2.0.0",
      "model_name": "HBoxModel",
      "state": {
       "children": [
        "IPY_MODEL_a7915f242ad848beb64abe7d9316462b",
        "IPY_MODEL_63e325e8fbfe410a95c17932d25310e6",
        "IPY_MODEL_e8a6043deec54f02bcbda897205f8ee7"
       ],
       "layout": "IPY_MODEL_8b7fb94a4bb24d97866358e91d01ba58"
      }
     },
     "9ab1f8b9a4ac4624ae0c2c38167b4e79": {
      "model_module": "@jupyter-widgets/base",
      "model_module_version": "2.0.0",
      "model_name": "LayoutModel",
      "state": {}
     },
     "9b13a560e36d41fab4e8a2ef8452afd6": {
      "model_module": "@jupyter-widgets/base",
      "model_module_version": "2.0.0",
      "model_name": "LayoutModel",
      "state": {}
     },
     "9c2ae00d92514bc28048e71701f4a067": {
      "model_module": "@jupyter-widgets/controls",
      "model_module_version": "2.0.0",
      "model_name": "FloatProgressModel",
      "state": {
       "bar_style": "success",
       "layout": "IPY_MODEL_149d5a1b49e549d0bf71cf77ec791e3a",
       "max": 1168138808,
       "style": "IPY_MODEL_110f97c0d2074f5ea639589f72607eab",
       "value": 1168138808
      }
     },
     "9d7c9b4229bd4fb9b44e7727a02bead8": {
      "model_module": "@jupyter-widgets/controls",
      "model_module_version": "2.0.0",
      "model_name": "FloatProgressModel",
      "state": {
       "bar_style": "success",
       "layout": "IPY_MODEL_145c8cff9f4f427a9f2673a9caa4c7b6",
       "max": 23950,
       "style": "IPY_MODEL_2d1fa18e23d447ca8101d56193d90401",
       "value": 23950
      }
     },
     "a26d5df09aed4794817f4014d2e933b2": {
      "model_module": "@jupyter-widgets/controls",
      "model_module_version": "2.0.0",
      "model_name": "HTMLModel",
      "state": {
       "layout": "IPY_MODEL_d15a0c473a494b91ba9cc25a978b161f",
       "style": "IPY_MODEL_7744d14252994da3ace0d4ba485aca75",
       "value": "special_tokens_map.json: 100%"
      }
     },
     "a2d84ab2e47b469d9b6b99720a63386a": {
      "model_module": "@jupyter-widgets/controls",
      "model_module_version": "2.0.0",
      "model_name": "HTMLStyleModel",
      "state": {
       "description_width": "",
       "font_size": null,
       "text_color": null
      }
     },
     "a31f0585c30c43da80cd35550fbf28e1": {
      "model_module": "@jupyter-widgets/controls",
      "model_module_version": "2.0.0",
      "model_name": "HTMLModel",
      "state": {
       "layout": "IPY_MODEL_6981e0dbe0e74bab8b20f08c4ed2e4e9",
       "style": "IPY_MODEL_4bb6d5da816b4ba09e2b5fb60d02bbae",
       "value": "tokenizer_config.json: 100%"
      }
     },
     "a5e1bf38f5bd45b982bbc01f561d1d4d": {
      "model_module": "@jupyter-widgets/controls",
      "model_module_version": "2.0.0",
      "model_name": "HTMLModel",
      "state": {
       "layout": "IPY_MODEL_3e7e9cea9f50453f9e7f032b7f73d8c7",
       "style": "IPY_MODEL_fc8a33426aaa4588888c75a76c599658",
       "value": "model.safetensors.index.json: 100%"
      }
     },
     "a7915f242ad848beb64abe7d9316462b": {
      "model_module": "@jupyter-widgets/controls",
      "model_module_version": "2.0.0",
      "model_name": "HTMLModel",
      "state": {
       "layout": "IPY_MODEL_e15ec65484cd40418beb62ba7cfe7a38",
       "style": "IPY_MODEL_f8e0122f9ca84b408b4f16f0abe0b709",
       "value": "100%"
      }
     },
     "a906421d6e3f4433bff7cbdb5b1d15e1": {
      "model_module": "@jupyter-widgets/base",
      "model_module_version": "2.0.0",
      "model_name": "LayoutModel",
      "state": {}
     },
     "a9fbd33bad884469852f3bb7de0e3271": {
      "model_module": "@jupyter-widgets/base",
      "model_module_version": "2.0.0",
      "model_name": "LayoutModel",
      "state": {}
     },
     "ab78c201a94844349347b1eb97202b66": {
      "model_module": "@jupyter-widgets/base",
      "model_module_version": "2.0.0",
      "model_name": "LayoutModel",
      "state": {}
     },
     "ac51b43b07dd4a7db1416db0f26c70e8": {
      "model_module": "@jupyter-widgets/base",
      "model_module_version": "2.0.0",
      "model_name": "LayoutModel",
      "state": {}
     },
     "ada5d4f9fbec4e79bd0c70d669cbd662": {
      "model_module": "@jupyter-widgets/controls",
      "model_module_version": "2.0.0",
      "model_name": "ProgressStyleModel",
      "state": {
       "description_width": ""
      }
     },
     "ae20e7579ab14eba9ae8830a135bc25d": {
      "model_module": "@jupyter-widgets/base",
      "model_module_version": "2.0.0",
      "model_name": "LayoutModel",
      "state": {}
     },
     "b1836675023443518a5753f93257443f": {
      "model_module": "@jupyter-widgets/controls",
      "model_module_version": "2.0.0",
      "model_name": "HTMLModel",
      "state": {
       "layout": "IPY_MODEL_2b448c9fcc144444aa202f94e839b0b6",
       "style": "IPY_MODEL_7910b10fe7d1423fa6e8abdc0a9fa8d6",
       "value": " 277/277 [00:00&lt;00:00, 98.8kB/s]"
      }
     },
     "b1ccebad0cf246409765aaa928177325": {
      "model_module": "@jupyter-widgets/controls",
      "model_module_version": "2.0.0",
      "model_name": "HTMLModel",
      "state": {
       "layout": "IPY_MODEL_8955746c6d8e43049132b231d1c9afb4",
       "style": "IPY_MODEL_1b491b326f684f039f0a63b6861d0a1e",
       "value": " 43/8309 [00:48&lt;2:19:56,  1.02s/it]"
      }
     },
     "b1ed61157cda4aef8feabda64dd90485": {
      "model_module": "@jupyter-widgets/controls",
      "model_module_version": "2.0.0",
      "model_name": "HTMLStyleModel",
      "state": {
       "description_width": "",
       "font_size": null,
       "text_color": null
      }
     },
     "b2294a3cc13341d39ef5a4250f3ba0ba": {
      "model_module": "@jupyter-widgets/controls",
      "model_module_version": "2.0.0",
      "model_name": "FloatProgressModel",
      "state": {
       "bar_style": "success",
       "layout": "IPY_MODEL_3fee0e327eb84e1d8a041ed6f7d700c7",
       "max": 4915916176,
       "style": "IPY_MODEL_c5d8e213960143569ac5d994e8a42613",
       "value": 4915916176
      }
     },
     "b2883dc2c6e14b93840f76cdda3c4fc8": {
      "model_module": "@jupyter-widgets/controls",
      "model_module_version": "2.0.0",
      "model_name": "HTMLStyleModel",
      "state": {
       "description_width": "",
       "font_size": null,
       "text_color": null
      }
     },
     "b40905f14fc84ae4922b4b7adc477ee1": {
      "model_module": "@jupyter-widgets/controls",
      "model_module_version": "2.0.0",
      "model_name": "HTMLStyleModel",
      "state": {
       "description_width": "",
       "font_size": null,
       "text_color": null
      }
     },
     "b40c8c9daa4d45bcb0c1465f4f369cde": {
      "model_module": "@jupyter-widgets/controls",
      "model_module_version": "2.0.0",
      "model_name": "HTMLModel",
      "state": {
       "layout": "IPY_MODEL_63dcfaddaa844a3499e774fb9a1df0d5",
       "style": "IPY_MODEL_faa76941114b443eaca306e0c0d82cef",
       "value": " 446/446 [00:00&lt;00:00, 158kB/s]"
      }
     },
     "b54790523fd049bfa0e698e3fc41b3e9": {
      "model_module": "@jupyter-widgets/base",
      "model_module_version": "2.0.0",
      "model_name": "LayoutModel",
      "state": {}
     },
     "b57659626af34c4d96712c1888014904": {
      "model_module": "@jupyter-widgets/base",
      "model_module_version": "2.0.0",
      "model_name": "LayoutModel",
      "state": {}
     },
     "b5917401d5ea4829a3dc8f02f0baa1b3": {
      "model_module": "@jupyter-widgets/base",
      "model_module_version": "2.0.0",
      "model_name": "LayoutModel",
      "state": {}
     },
     "b643dc46d58249839e2f6da003e99e6e": {
      "model_module": "@jupyter-widgets/controls",
      "model_module_version": "2.0.0",
      "model_name": "HTMLStyleModel",
      "state": {
       "description_width": "",
       "font_size": null,
       "text_color": null
      }
     },
     "b78f2ed9abd94668bf5799c37207406e": {
      "model_module": "@jupyter-widgets/controls",
      "model_module_version": "2.0.0",
      "model_name": "HTMLStyleModel",
      "state": {
       "description_width": "",
       "font_size": null,
       "text_color": null
      }
     },
     "bb4366f82d6540eaa499b24cdfe91af5": {
      "model_module": "@jupyter-widgets/base",
      "model_module_version": "2.0.0",
      "model_name": "LayoutModel",
      "state": {}
     },
     "bce1107fba054343a27330a1850b5511": {
      "model_module": "@jupyter-widgets/controls",
      "model_module_version": "2.0.0",
      "model_name": "HTMLStyleModel",
      "state": {
       "description_width": "",
       "font_size": null,
       "text_color": null
      }
     },
     "c08ca6128bf844deb962a0f7115670ed": {
      "model_module": "@jupyter-widgets/base",
      "model_module_version": "2.0.0",
      "model_name": "LayoutModel",
      "state": {}
     },
     "c221b5d5f8704be693094c2beb53ec42": {
      "model_module": "@jupyter-widgets/controls",
      "model_module_version": "2.0.0",
      "model_name": "HBoxModel",
      "state": {
       "children": [
        "IPY_MODEL_d6d23a9700794cda90151d6116792e6c",
        "IPY_MODEL_d2ff4b9754f24e119ed4f2593ac799b5",
        "IPY_MODEL_16dae808decd452eb84c5a7cbbf599a4"
       ],
       "layout": "IPY_MODEL_ae20e7579ab14eba9ae8830a135bc25d"
      }
     },
     "c338ac65b3424ac280928088135063d7": {
      "model_module": "@jupyter-widgets/base",
      "model_module_version": "2.0.0",
      "model_name": "LayoutModel",
      "state": {}
     },
     "c43752fc47224a2083e616ece3ca30cf": {
      "model_module": "@jupyter-widgets/controls",
      "model_module_version": "2.0.0",
      "model_name": "ProgressStyleModel",
      "state": {
       "description_width": ""
      }
     },
     "c5d8e213960143569ac5d994e8a42613": {
      "model_module": "@jupyter-widgets/controls",
      "model_module_version": "2.0.0",
      "model_name": "ProgressStyleModel",
      "state": {
       "description_width": ""
      }
     },
     "cac342e9919a47a1ba70a3b278e2561f": {
      "model_module": "@jupyter-widgets/base",
      "model_module_version": "2.0.0",
      "model_name": "LayoutModel",
      "state": {}
     },
     "cba16356c1064efa8963d37f74329970": {
      "model_module": "@jupyter-widgets/controls",
      "model_module_version": "2.0.0",
      "model_name": "HTMLStyleModel",
      "state": {
       "description_width": "",
       "font_size": null,
       "text_color": null
      }
     },
     "cd22fb85ae0c4ea4bd7217b2084e60c7": {
      "model_module": "@jupyter-widgets/controls",
      "model_module_version": "2.0.0",
      "model_name": "HBoxModel",
      "state": {
       "children": [
        "IPY_MODEL_a31f0585c30c43da80cd35550fbf28e1",
        "IPY_MODEL_27515582a0f5463792bc16fc89549cf3",
        "IPY_MODEL_1e9e07bcef1341868cf1db82b342b45f"
       ],
       "layout": "IPY_MODEL_bb4366f82d6540eaa499b24cdfe91af5"
      }
     },
     "d01fe0c71cee493b896a0de89c130a11": {
      "model_module": "@jupyter-widgets/base",
      "model_module_version": "2.0.0",
      "model_name": "LayoutModel",
      "state": {}
     },
     "d0242bccd618462f861b482ee49b44c1": {
      "model_module": "@jupyter-widgets/base",
      "model_module_version": "2.0.0",
      "model_name": "LayoutModel",
      "state": {}
     },
     "d15a0c473a494b91ba9cc25a978b161f": {
      "model_module": "@jupyter-widgets/base",
      "model_module_version": "2.0.0",
      "model_name": "LayoutModel",
      "state": {}
     },
     "d2ff4b9754f24e119ed4f2593ac799b5": {
      "model_module": "@jupyter-widgets/controls",
      "model_module_version": "2.0.0",
      "model_name": "FloatProgressModel",
      "state": {
       "bar_style": "success",
       "layout": "IPY_MODEL_d66806d3d0fb4f1d8730d6ebaefb1455",
       "max": 4999802720,
       "style": "IPY_MODEL_f0c0d24aac1d42d2ace6780a5721ed76",
       "value": 4999802720
      }
     },
     "d48b77777d494ab19806bd3826640b9c": {
      "model_module": "@jupyter-widgets/controls",
      "model_module_version": "2.0.0",
      "model_name": "HTMLModel",
      "state": {
       "layout": "IPY_MODEL_113adad7421b4804908e7a9daeba50c3",
       "style": "IPY_MODEL_b40905f14fc84ae4922b4b7adc477ee1",
       "value": "config.json: 100%"
      }
     },
     "d5064a8607c045138d366de67ab28c95": {
      "model_module": "@jupyter-widgets/controls",
      "model_module_version": "2.0.0",
      "model_name": "ProgressStyleModel",
      "state": {
       "description_width": ""
      }
     },
     "d66806d3d0fb4f1d8730d6ebaefb1455": {
      "model_module": "@jupyter-widgets/base",
      "model_module_version": "2.0.0",
      "model_name": "LayoutModel",
      "state": {}
     },
     "d6d23a9700794cda90151d6116792e6c": {
      "model_module": "@jupyter-widgets/controls",
      "model_module_version": "2.0.0",
      "model_name": "HTMLModel",
      "state": {
       "layout": "IPY_MODEL_f333720e39044e36b8d5e6f28188a3d9",
       "style": "IPY_MODEL_2cddf387d7b74bd988bee9b88c734eba",
       "value": "model-00002-of-00004.safetensors: 100%"
      }
     },
     "dae72d6de23b4e04bc4d56eef10ba3a9": {
      "model_module": "@jupyter-widgets/controls",
      "model_module_version": "2.0.0",
      "model_name": "FloatProgressModel",
      "state": {
       "bar_style": "danger",
       "layout": "IPY_MODEL_8a31e6d5372f498f91de59e1a8996df3",
       "max": 8309,
       "style": "IPY_MODEL_ecfd93d835564dbb8ca6a9ae77386a5b",
       "value": 43
      }
     },
     "daf8801b82094f5c8fc23ea4597bd074": {
      "model_module": "@jupyter-widgets/controls",
      "model_module_version": "2.0.0",
      "model_name": "FloatProgressModel",
      "state": {
       "bar_style": "success",
       "layout": "IPY_MODEL_5d42576c7de24152a1c4043ce457afa1",
       "max": 9085698,
       "style": "IPY_MODEL_3bb4b22262734ad1bb68b8bb298d56cd",
       "value": 9085698
      }
     },
     "e15ec65484cd40418beb62ba7cfe7a38": {
      "model_module": "@jupyter-widgets/base",
      "model_module_version": "2.0.0",
      "model_name": "LayoutModel",
      "state": {}
     },
     "e265378488504487acb88c1e24c37497": {
      "model_module": "@jupyter-widgets/base",
      "model_module_version": "2.0.0",
      "model_name": "LayoutModel",
      "state": {}
     },
     "e8a6043deec54f02bcbda897205f8ee7": {
      "model_module": "@jupyter-widgets/controls",
      "model_module_version": "2.0.0",
      "model_name": "HTMLModel",
      "state": {
       "layout": "IPY_MODEL_b54790523fd049bfa0e698e3fc41b3e9",
       "style": "IPY_MODEL_cba16356c1064efa8963d37f74329970",
       "value": " 8309/8309 [2:41:21&lt;00:00,  1.04it/s]"
      }
     },
     "eae2ea14409b481cbda746c0209f8616": {
      "model_module": "@jupyter-widgets/controls",
      "model_module_version": "2.0.0",
      "model_name": "HTMLStyleModel",
      "state": {
       "description_width": "",
       "font_size": null,
       "text_color": null
      }
     },
     "ec2b9f9f9dae45029709129b3d156811": {
      "model_module": "@jupyter-widgets/controls",
      "model_module_version": "2.0.0",
      "model_name": "HBoxModel",
      "state": {
       "children": [
        "IPY_MODEL_8a74fe90650c4b198d97bea4a04693fc",
        "IPY_MODEL_b2294a3cc13341d39ef5a4250f3ba0ba",
        "IPY_MODEL_768d470019694e6eb67a23b6c3ca114a"
       ],
       "layout": "IPY_MODEL_5e3da59b51924c18b159cf8974cf18d8"
      }
     },
     "ecfd93d835564dbb8ca6a9ae77386a5b": {
      "model_module": "@jupyter-widgets/controls",
      "model_module_version": "2.0.0",
      "model_name": "ProgressStyleModel",
      "state": {
       "description_width": ""
      }
     },
     "ed5a0777806f4fea9ee6f7a0b7a9845e": {
      "model_module": "@jupyter-widgets/base",
      "model_module_version": "2.0.0",
      "model_name": "LayoutModel",
      "state": {}
     },
     "eff6517acc0a4593afe971e7e23bdc5b": {
      "model_module": "@jupyter-widgets/controls",
      "model_module_version": "2.0.0",
      "model_name": "HTMLStyleModel",
      "state": {
       "description_width": "",
       "font_size": null,
       "text_color": null
      }
     },
     "f0a7472f88864f36b5f41bbb8b4b3f37": {
      "model_module": "@jupyter-widgets/controls",
      "model_module_version": "2.0.0",
      "model_name": "FloatProgressModel",
      "state": {
       "bar_style": "success",
       "layout": "IPY_MODEL_3abc72e187fd4f3c9ddbf4d9495fdb2c",
       "max": 277,
       "style": "IPY_MODEL_ada5d4f9fbec4e79bd0c70d669cbd662",
       "value": 277
      }
     },
     "f0c0d24aac1d42d2ace6780a5721ed76": {
      "model_module": "@jupyter-widgets/controls",
      "model_module_version": "2.0.0",
      "model_name": "ProgressStyleModel",
      "state": {
       "description_width": ""
      }
     },
     "f333720e39044e36b8d5e6f28188a3d9": {
      "model_module": "@jupyter-widgets/base",
      "model_module_version": "2.0.0",
      "model_name": "LayoutModel",
      "state": {}
     },
     "f42dafb5f767490ab3bc407556ac9b79": {
      "model_module": "@jupyter-widgets/base",
      "model_module_version": "2.0.0",
      "model_name": "LayoutModel",
      "state": {}
     },
     "f8746e40c8b44b8ba08dc533f1103b5a": {
      "model_module": "@jupyter-widgets/base",
      "model_module_version": "2.0.0",
      "model_name": "LayoutModel",
      "state": {}
     },
     "f8e0122f9ca84b408b4f16f0abe0b709": {
      "model_module": "@jupyter-widgets/controls",
      "model_module_version": "2.0.0",
      "model_name": "HTMLStyleModel",
      "state": {
       "description_width": "",
       "font_size": null,
       "text_color": null
      }
     },
     "faa76941114b443eaca306e0c0d82cef": {
      "model_module": "@jupyter-widgets/controls",
      "model_module_version": "2.0.0",
      "model_name": "HTMLStyleModel",
      "state": {
       "description_width": "",
       "font_size": null,
       "text_color": null
      }
     },
     "fc8a33426aaa4588888c75a76c599658": {
      "model_module": "@jupyter-widgets/controls",
      "model_module_version": "2.0.0",
      "model_name": "HTMLStyleModel",
      "state": {
       "description_width": "",
       "font_size": null,
       "text_color": null
      }
     },
     "fdea91c121264185b9169b15e07b7824": {
      "model_module": "@jupyter-widgets/controls",
      "model_module_version": "2.0.0",
      "model_name": "HTMLModel",
      "state": {
       "layout": "IPY_MODEL_2400541b6107487eb25d09a2942c97b4",
       "style": "IPY_MODEL_b2883dc2c6e14b93840f76cdda3c4fc8",
       "value": " 23.9k/23.9k [00:00&lt;00:00, 7.68MB/s]"
      }
     },
     "ff677e4930a3403c88f19892043bee82": {
      "model_module": "@jupyter-widgets/controls",
      "model_module_version": "2.0.0",
      "model_name": "ProgressStyleModel",
      "state": {
       "description_width": ""
      }
     },
     "ffd74a0d84ea492bb4373ffd39d7a0d4": {
      "model_module": "@jupyter-widgets/controls",
      "model_module_version": "2.0.0",
      "model_name": "HTMLStyleModel",
      "state": {
       "description_width": "",
       "font_size": null,
       "text_color": null
      }
     }
    },
    "version_major": 2,
    "version_minor": 0
   }
  }
 },
 "nbformat": 4,
 "nbformat_minor": 5
}
